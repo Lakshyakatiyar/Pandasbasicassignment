{
 "cells": [
  {
   "cell_type": "code",
   "execution_count": 1,
   "id": "f3a90cac-4532-461e-bc76-3ca6d8d05f61",
   "metadata": {},
   "outputs": [
    {
     "name": "stdout",
     "output_type": "stream",
     "text": [
      "0     4\n",
      "1     8\n",
      "2    15\n",
      "3    16\n",
      "4    23\n",
      "5    42\n",
      "dtype: int64\n"
     ]
    }
   ],
   "source": [
    "import pandas as pd\n",
    "\n",
    "data = [4, 8, 15, 16, 23, 42]\n",
    "series = pd.Series(data)\n",
    "\n",
    "print(series)\n"
   ]
  },
  {
   "cell_type": "code",
   "execution_count": 2,
   "id": "22ca6b82-14af-4b26-a57e-f78f33795679",
   "metadata": {},
   "outputs": [
    {
     "name": "stdout",
     "output_type": "stream",
     "text": [
      "0     1\n",
      "1     2\n",
      "2     3\n",
      "3     4\n",
      "4     5\n",
      "5     6\n",
      "6     7\n",
      "7     8\n",
      "8     9\n",
      "9    10\n",
      "dtype: int64\n"
     ]
    }
   ],
   "source": [
    "import pandas as pd\n",
    "my_list = [1, 2, 3, 4, 5, 6, 7, 8, 9, 10]\n",
    "series = pd.Series(my_list)\n",
    "\n",
    "print(series)\n"
   ]
  },
  {
   "cell_type": "code",
   "execution_count": 7,
   "id": "fbfbb8b1-b1a8-4773-a154-254449e4d45b",
   "metadata": {},
   "outputs": [
    {
     "name": "stdout",
     "output_type": "stream",
     "text": [
      "\n",
      "DataFrame:\n",
      "     Name Age  Gender\n",
      "0   Alice  25  Female\n",
      "1     Bob  30    Male\n",
      "2  Clarie  27  Female\n"
     ]
    }
   ],
   "source": [
    "import pandas as pd\n",
    "data = {'Name': ['Alice','Bob','Clarie'],\n",
    "        'Age': ['25','30','27'],\n",
    "       'Gender':['Female','Male','Female']}\n",
    "df = pd.DataFrame(data)\n",
    "print(\"\\nDataFrame:\")\n",
    "print(df)"
   ]
  },
  {
   "cell_type": "code",
   "execution_count": 3,
   "id": "763ad970-b0f8-4186-a67e-c69e6436ea73",
   "metadata": {},
   "outputs": [
    {
     "name": "stdout",
     "output_type": "stream",
     "text": [
      "Series:\n",
      "0    1\n",
      "1    2\n",
      "2    3\n",
      "3    4\n",
      "4    5\n",
      "Name: Example_Series, dtype: int64\n",
      "\n",
      "DataFrame:\n",
      "   Column1 Column2\n",
      "0        1       A\n",
      "1        2       B\n",
      "2        3       C\n",
      "3        4       D\n",
      "4        5       E\n"
     ]
    }
   ],
   "source": [
    "#In Pandas, a DataFrame is a two-dimensional, size-mutable, and heterogeneous tabular data structure with labeled axes (rows and columns). \n",
    "#It is one of the primary data structures used for data manipulation and analysis in Pandas. \n",
    "#Think of it as a spreadsheet or SQL table where you can store and work with structured data.\n",
    "\n",
    "import pandas as pd\n",
    "\n",
    "# Creating a Series\n",
    "series_data = pd.Series([1, 2, 3, 4, 5], name='Example_Series')\n",
    "print(\"Series:\")\n",
    "print(series_data)\n",
    "\n",
    "# Creating a DataFrame\n",
    "data = {'Column1': [1, 2, 3, 4, 5],\n",
    "        'Column2': ['A', 'B', 'C', 'D', 'E']}\n",
    "df = pd.DataFrame(data)\n",
    "print(\"\\nDataFrame:\")\n",
    "print(df)\n"
   ]
  },
  {
   "cell_type": "raw",
   "id": "5fcbae14-479f-45c6-903c-2d497d095773",
   "metadata": {},
   "source": [
    "5=Pandas provides a wide range of functions and methods for manipulating data in a DataFrame. Here are some common functions and methods used to manipulate data in a Pandas DataFrame along with examples of when you might use them:\n",
    "\n",
    "Filtering Data:\n",
    "df[df['column_name'] > value]: Filter rows based on a condition.\n",
    "\n",
    "Selecting Columns:\n",
    "df['column_name']: Select a single column as a Series.\n",
    "df[['col1', 'col2']]: Select multiple columns as a DataFrame.\n",
    "\n",
    "Sorting Data:\n",
    "df.sort_values('column_name'): Sort the DataFrame by a specific column.\n",
    "\n",
    "Grouping and Aggregation:\n",
    "df.groupby('column_name').agg({'agg_column': 'agg_function'}): Group data by a column and apply an aggregation function.\n",
    "\n",
    "\n",
    "Merging and Joining DataFrames:\n",
    "pd.merge(df1, df2, on='key_column'): Merge two DataFrames based on a common column.\n",
    "\n",
    "\n",
    "Pivoting Data:\n",
    "df.pivot(index='index_column', columns='columns_column', values='values_column'): Reshape data by pivoting it.\n",
    "\n",
    "Handling Missing Data:\n",
    "df.dropna(): Remove rows with missing values.\n",
    "df.fillna(value): Fill missing values with a specified value.\n",
    "\n",
    "df_filled = df.fillna(df.mean())\n",
    "\n",
    "Creating New Columns:\n",
    "df['new_column'] = value: Add a new column to the DataFrame.\n",
    "\n",
    "Applying Functions to Columns:\n",
    "df['new_column'] = df['existing_column'].apply(function): Apply a custom function to a column.\n"
   ]
  },
  {
   "cell_type": "code",
   "execution_count": 8,
   "id": "08cfcee3-526e-44f2-8766-42dcf9c5897f",
   "metadata": {},
   "outputs": [],
   "source": [
    "#In pandas series are mutable , while dataframe and panel are immutable"
   ]
  },
  {
   "cell_type": "code",
   "execution_count": 9,
   "id": "0a8ae1ec-87a7-4fa4-9c40-022fed377d46",
   "metadata": {},
   "outputs": [
    {
     "name": "stdout",
     "output_type": "stream",
     "text": [
      "   Column1 Column2  Column3\n",
      "0        1       A     10.5\n",
      "1        2       B     20.3\n",
      "2        3       C     30.1\n"
     ]
    }
   ],
   "source": [
    "import pandas as pd\n",
    "\n",
    "# Create multiple Series\n",
    "series1 = pd.Series([1, 2, 3], name='Column1')\n",
    "series2 = pd.Series(['A', 'B', 'C'], name='Column2')\n",
    "series3 = pd.Series([10.5, 20.3, 30.1], name='Column3')\n",
    "\n",
    "# Combine the Series into a DataFrame\n",
    "df = pd.DataFrame({'Column1': series1, 'Column2': series2, 'Column3': series3})\n",
    "\n",
    "# Print the DataFrame\n",
    "print(df)\n"
   ]
  },
  {
   "cell_type": "code",
   "execution_count": null,
   "id": "0a9a1130-b7eb-4306-a5fa-1cb23bd2bc49",
   "metadata": {},
   "outputs": [],
   "source": []
  }
 ],
 "metadata": {
  "kernelspec": {
   "display_name": "Python 3 (ipykernel)",
   "language": "python",
   "name": "python3"
  },
  "language_info": {
   "codemirror_mode": {
    "name": "ipython",
    "version": 3
   },
   "file_extension": ".py",
   "mimetype": "text/x-python",
   "name": "python",
   "nbconvert_exporter": "python",
   "pygments_lexer": "ipython3",
   "version": "3.10.8"
  }
 },
 "nbformat": 4,
 "nbformat_minor": 5
}
